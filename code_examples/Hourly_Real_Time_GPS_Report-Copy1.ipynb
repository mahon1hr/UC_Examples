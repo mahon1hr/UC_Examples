{
 "cells": [
  {
   "cell_type": "code",
   "execution_count": 1,
   "metadata": {},
   "outputs": [
    {
     "data": {
      "text/plain": [
       "<pyspark.sql.context.HiveContext at 0x7fcb3d86bb70>"
      ]
     },
     "execution_count": 1,
     "metadata": {},
     "output_type": "execute_result"
    }
   ],
   "source": [
    "from sparky import Sparky\n",
    "spark = Sparky(appname='SparkySampleApp')\n",
    "spark.sqlContext"
   ]
  },
  {
   "cell_type": "code",
   "execution_count": 2,
   "metadata": {},
   "outputs": [],
   "source": [
    "import os\n",
    "import sys\n",
    "from glob import glob\n",
    "\n",
    "from IPython.display import display, Markdown\n",
    "from IPython.display import HTML\n",
    "import IPython.core.display as di # Example: di.display_html('<h3>%s:</h3>' % str, raw=True)\n",
    "import datetime\n",
    "from datetime import date, timedelta\n",
    "from pytz import timezone\n",
    "from datetime import datetime\n",
    "\n",
    "from pyspark.sql.functions import *\n",
    "from pyspark.sql.functions import concat, col, lit\n",
    "from pyspark.sql.types import *\n",
    "\n",
    "from pyspark import SparkContext\n",
    "from pyspark.sql.types import DoubleType\n",
    "from pyspark.sql import SQLContext\n",
    "from pyspark.sql import SparkSession\n",
    "from pyspark.sql import DataFrameWriter as W\n",
    "\n",
    "import pandas as pd\n",
    "import json\n",
    "import numpy as np\n",
    "\n",
    "import matplotlib.dates as mdates\n",
    "import matplotlib.pyplot as plt\n",
    "%matplotlib inline"
   ]
  },
  {
   "cell_type": "code",
   "execution_count": 3,
   "metadata": {
    "scrolled": true
   },
   "outputs": [],
   "source": [
    "spark = SparkSession.builder.master(\"yarn\").appName(\"realTimeGPS\").getOrCreate()"
   ]
  },
  {
   "cell_type": "code",
   "execution_count": 4,
   "metadata": {
    "scrolled": true
   },
   "outputs": [
    {
     "data": {
      "text/html": [
       "<script>jQuery(function() {if (jQuery(\"body.notebook_app\").length == 0) { jQuery(\".input_area\").toggle(); jQuery(\".prompt\").toggle();}});</script>"
      ]
     },
     "metadata": {},
     "output_type": "display_data"
    }
   ],
   "source": [
    "from IPython.display import display, Markdown\n",
    "from IPython.display import HTML\n",
    "import IPython.core.display as di # Example: di.display_html('<h3>%s:</h3>' % str, raw=True)\n",
    "\n",
    "# This line will hide code by default when the notebook is exported as HTML\n",
    "di.display_html('<script>jQuery(function() {if (jQuery(\"body.notebook_app\").length == 0) { jQuery(\".input_area\").toggle(); jQuery(\".prompt\").toggle();}});</script>', raw=True)\n"
   ]
  },
  {
   "cell_type": "code",
   "execution_count": 8,
   "metadata": {},
   "outputs": [
    {
     "data": {
      "text/plain": [
       "'20190815'"
      ]
     },
     "execution_count": 8,
     "metadata": {},
     "output_type": "execute_result"
    }
   ],
   "source": [
    "updateDay=(date.today()).strftime('%Y%m%d')\n",
    "# updateDay = (date.today()-timedelta(1)).strftime('%Y%m%d')\n",
    "updateDay"
   ]
  },
  {
   "cell_type": "code",
   "execution_count": 9,
   "metadata": {},
   "outputs": [],
   "source": [
    "sourceDataDayPath1 = (\"/apps/data/internal/db.trips/iotp.core.device.driving.realTimeGPSEvent.delayed.json/\"+updateDay+\"/\")\n",
    "sourceDataDayPath2 = (\"/apps/data/internal/db.trips/iotp.core.device.driving.realTimeGPSEvent.future.processed.json/\"+updateDay+\"/\")\n",
    "sourceDataDayPath3 = (\"/apps/data/internal/db.trips/iotp.core.device.driving.realTimeGPSEvent.trimmed.json/\"+updateDay+\"/\")\n",
    "sourceDataDayPath4 = (\"/apps/data/internal/db.trips/iotp.core.device.realTimeGPSEvent.processed.avro/\"+updateDay+\"/\")\n"
   ]
  },
  {
   "cell_type": "code",
   "execution_count": 10,
   "metadata": {},
   "outputs": [],
   "source": [
    "df = spark.read.option(\"multiLine\",True).option(\"mode\", \"PERMISSIVE\").json(sourceDataDayPath1)\n",
    "df1 = spark.read.option(\"multiLine\",True).option(\"mode\", \"PERMISSIVE\").json(sourceDataDayPath2)\n",
    "df2 = spark.read.option(\"multiLine\",True).option(\"mode\", \"PERMISSIVE\").json(sourceDataDayPath3).drop(\"_corrupt_record\")\n",
    "df3 = spark.read.format(\"com.databricks.spark.avro\").load(sourceDataDayPath4)"
   ]
  },
  {
   "cell_type": "code",
   "execution_count": 11,
   "metadata": {},
   "outputs": [],
   "source": [
    "delayed_df = df.withColumn(\"error_date\",split(col(\"error_TS\"),\"T\").getItem(0)).withColumn(\"error_hour\",concat(split(col(\"error_TS\"),\"T\").getItem(1)[0:2],lit(\":00:00\"))).withColumn(\"loadDate\",date_sub(current_timestamp(),0))\n",
    "future_df = df1.withColumn(\"error_date\",split(col(\"error_TS\"),\"T\").getItem(0)).withColumn(\"error_hour\",concat(split(col(\"error_TS\"),\"T\").getItem(1)[0:2],lit(\":00:00\"))).withColumn(\"loadDate\",date_sub(current_timestamp(),0))\n",
    "trimmed_df = df2.withColumn(\"error_date\",split(col(\"error_TS\"),\"T\").getItem(0)).withColumn(\"error_hour\",concat(split(col(\"error_TS\"),\"T\").getItem(1)[0:2],lit(\":00:00\"))).withColumn(\"loadDate\",date_sub(current_timestamp(),0))"
   ]
  },
  {
   "cell_type": "code",
   "execution_count": 29,
   "metadata": {},
   "outputs": [
    {
     "data": {
      "text/plain": [
       "'2019-08-15'"
      ]
     },
     "execution_count": 29,
     "metadata": {},
     "output_type": "execute_result"
    }
   ],
   "source": [
    "updateDay = (date.today()).strftime('%Y-%m-%d')\n",
    "# updateDay = (date.today()-timedelta(1)).strftime('%Y-%m-%d')\n",
    "updateDay"
   ]
  },
  {
   "cell_type": "code",
   "execution_count": 30,
   "metadata": {},
   "outputs": [],
   "source": [
    "gpsPoints = df3.withColumn(\"unix_gatewayTS\",(unix_timestamp(\"gatewayReceived_TS\"))+14400)\\\n",
    ".withColumn(\"transformed_TS\",from_unixtime(\"unix_gatewayTS\")).withColumn(\"gateway_date\",split(col(\"transformed_TS\"),\" \").getItem(0))\\\n",
    ".withColumn(\"gateway_hour\",concat(split(col(\"transformed_TS\"),\" \").getItem(1)[0:2],lit(\":00:00\")))\\\n",
    ".withColumn(\"unique_id\",concat(\"tripId\",\"imei\"))\n",
    "gpsPoints1=gpsPoints.filter(col('gateway_date')==updateDay)\n",
    "gpsPoints1.registerTempTable(\"gpsTBL\")"
   ]
  },
  {
   "cell_type": "code",
   "execution_count": 31,
   "metadata": {},
   "outputs": [],
   "source": [
    "from functools import reduce  # For Python 3.x\n",
    "from pyspark.sql import DataFrame"
   ]
  },
  {
   "cell_type": "code",
   "execution_count": 32,
   "metadata": {},
   "outputs": [],
   "source": [
    "def unionAll(*dfs):\n",
    "    return reduce(DataFrame.unionAll, dfs)"
   ]
  },
  {
   "cell_type": "code",
   "execution_count": 33,
   "metadata": {},
   "outputs": [],
   "source": [
    "# new_df = Seq(delayed_df, future_df, trimmed_df)\n",
    "new_df=unionAll(delayed_df, future_df, trimmed_df)\n",
    "new_df1=new_df.filter(col('error_date')==updateDay)"
   ]
  },
  {
   "cell_type": "code",
   "execution_count": 34,
   "metadata": {},
   "outputs": [],
   "source": [
    "df=new_df1.select(\"deviceId\",\"error_TS\",explode(\"errors\"),\"organizationId\",\"tripId\",\"error_date\",\"error_hour\")\\\n",
    ".select(\"col.*\",\"*\").withColumn(\"unique_id\",concat(\"tripId\",\"deviceId\")).drop(\"col\").drop(\"link\").drop(\"field\").drop(\"extension\")\n",
    "df.registerTempTable(\"tbl1\")\n"
   ]
  },
  {
   "cell_type": "code",
   "execution_count": 35,
   "metadata": {},
   "outputs": [],
   "source": [
    "df2 = spark.sql(\"select error_date, error_hour, organizationId as orgId, unique_id, deviceId, code, case when code='499.07.116' then 'delayed_gps' end as delayedPoints, case when code='499.07.117' then 'future_gps' end as futurePoints, case when code='499.07.118' then 'trimmed_gps' end as trimmedPoints from tbl1\")\n",
    "\n",
    "df2.registerTempTable(\"tbl2\")"
   ]
  },
  {
   "cell_type": "code",
   "execution_count": 36,
   "metadata": {},
   "outputs": [],
   "source": [
    "df5 = spark.sql(\"select error_hour, count(delayedPoints) as delayedGPS, count(futurePoints) as futureGPS, count(trimmedPoints) as trimmedGPS from tbl2 group by error_hour\")\n",
    "df5.registerTempTable(\"errorsDF\")\n",
    "\n",
    "df6 = spark.sql(\"select gateway_hour, count(*) as total_points from gpsTBL group by gateway_hour\")\n",
    "df6.registerTempTable(\"gpsDF\")\n"
   ]
  },
  {
   "cell_type": "code",
   "execution_count": 37,
   "metadata": {},
   "outputs": [],
   "source": [
    "joinedDF = df6.join(df5, df5.error_hour == df6.gateway_hour, \"fullouter\")"
   ]
  },
  {
   "cell_type": "code",
   "execution_count": 38,
   "metadata": {},
   "outputs": [],
   "source": [
    "df = joinedDF.withColumn(\n",
    "    'gps_hour', when((col(\"gateway_hour\").isNull()), joinedDF.error_hour).otherwise(joinedDF.gateway_hour)).drop(\"gateway_hour\").drop(\"error_hour\")"
   ]
  },
  {
   "cell_type": "code",
   "execution_count": 39,
   "metadata": {
    "scrolled": true
   },
   "outputs": [],
   "source": [
    "# temp1=df5.toPandas()\n",
    "# temp2=df6.toPandas()"
   ]
  },
  {
   "cell_type": "code",
   "execution_count": 40,
   "metadata": {},
   "outputs": [],
   "source": [
    "# temp1=temp1.sort_values('error_hour').reset_index(drop=True)\n",
    "# temp2=temp2.sort_values('gateway_hour').reset_index(drop=True)"
   ]
  },
  {
   "cell_type": "code",
   "execution_count": 41,
   "metadata": {},
   "outputs": [],
   "source": [
    "temp3=df.toPandas()\n",
    "temp3=temp3.sort_values('gps_hour').reset_index(drop=True)"
   ]
  },
  {
   "cell_type": "code",
   "execution_count": 42,
   "metadata": {},
   "outputs": [],
   "source": [
    "temp3['publishedGPS']=temp3['total_points']-temp3['delayedGPS']-temp3['futureGPS']-temp3['trimmedGPS']\n",
    "temp3=temp3[['gps_hour','total_points','publishedGPS','delayedGPS','futureGPS','trimmedGPS']]"
   ]
  },
  {
   "cell_type": "code",
   "execution_count": 43,
   "metadata": {
    "scrolled": false
   },
   "outputs": [
    {
     "data": {
      "image/png": "[encoded data removed]",
      "text/plain": [
       "<Figure size 1080x504 with 1 Axes>"
      ]
     },
     "metadata": {
      "needs_background": "light"
     },
     "output_type": "display_data"
    }
   ],
   "source": [
    "#draw\n",
    "fig=plt.figure(figsize=(15,7))\n",
    "ax = fig.add_subplot(1,1,1)  \n",
    "\n",
    "plt.plot(temp3['delayedGPS'],label='Delayed GPS Points')\n",
    "plt.plot(temp3['futureGPS'],label='Future GPS Points')\n",
    "plt.plot(temp3['trimmedGPS'],label='Trimmed GPS Points',color='deeppink')\n",
    "plt.plot(temp3['total_points'],label='Total Received Points',color='purple')\n",
    "plt.plot(temp3['publishedGPS'],label='Published GPS Points',color='teal')\n",
    "x = range(0,len(temp3['gps_hour']),24)\n",
    "\n",
    "# labels=temp3['gps_hour'][::24]\n",
    "# ax.set_xticks(np.arange(len(x)))\n",
    "# plt.xticks(x, rotation='vertical')\n",
    "\n",
    "# fig.autofmt_xdate()\n",
    "plt.legend(loc='upper left')\n",
    "plt.title(\"Hourly Real Time GPS Trends\",fontsize=14)\n",
    "plt.ylabel('count');"
   ]
  },
  {
   "cell_type": "code",
   "execution_count": 44,
   "metadata": {},
   "outputs": [
    {
     "data": {
      "text/html": [
       "<div>\n",
       "<style scoped>\n",
       "    .dataframe tbody tr th:only-of-type {\n",
       "        vertical-align: middle;\n",
       "    }\n",
       "\n",
       "    .dataframe tbody tr th {\n",
       "        vertical-align: top;\n",
       "    }\n",
       "\n",
       "    .dataframe thead th {\n",
       "        text-align: right;\n",
       "    }\n",
       "</style>\n",
       "<table border=\"1\" class=\"dataframe\">\n",
       "  <thead>\n",
       "    <tr style=\"text-align: right;\">\n",
       "      <th></th>\n",
       "      <th>gps_hour</th>\n",
       "      <th>total_points</th>\n",
       "      <th>publishedGPS</th>\n",
       "      <th>delayedGPS</th>\n",
       "      <th>futureGPS</th>\n",
       "      <th>trimmedGPS</th>\n",
       "    </tr>\n",
       "  </thead>\n",
       "  <tbody>\n",
       "    <tr>\n",
       "      <th>0</th>\n",
       "      <td>02:00:00</td>\n",
       "      <td>NaN</td>\n",
       "      <td>NaN</td>\n",
       "      <td>6760</td>\n",
       "      <td>294</td>\n",
       "      <td>22839</td>\n",
       "    </tr>\n",
       "    <tr>\n",
       "      <th>1</th>\n",
       "      <td>03:00:00</td>\n",
       "      <td>962917.0</td>\n",
       "      <td>757912.0</td>\n",
       "      <td>41990</td>\n",
       "      <td>5788</td>\n",
       "      <td>157227</td>\n",
       "    </tr>\n",
       "    <tr>\n",
       "      <th>2</th>\n",
       "      <td>04:00:00</td>\n",
       "      <td>638619.0</td>\n",
       "      <td>537898.0</td>\n",
       "      <td>4261</td>\n",
       "      <td>4211</td>\n",
       "      <td>92249</td>\n",
       "    </tr>\n",
       "    <tr>\n",
       "      <th>3</th>\n",
       "      <td>05:00:00</td>\n",
       "      <td>340363.0</td>\n",
       "      <td>286642.0</td>\n",
       "      <td>491</td>\n",
       "      <td>2178</td>\n",
       "      <td>51052</td>\n",
       "    </tr>\n",
       "    <tr>\n",
       "      <th>4</th>\n",
       "      <td>06:00:00</td>\n",
       "      <td>222309.0</td>\n",
       "      <td>185168.0</td>\n",
       "      <td>317</td>\n",
       "      <td>1278</td>\n",
       "      <td>35546</td>\n",
       "    </tr>\n",
       "    <tr>\n",
       "      <th>5</th>\n",
       "      <td>07:00:00</td>\n",
       "      <td>205859.0</td>\n",
       "      <td>172175.0</td>\n",
       "      <td>194</td>\n",
       "      <td>1236</td>\n",
       "      <td>32254</td>\n",
       "    </tr>\n",
       "    <tr>\n",
       "      <th>6</th>\n",
       "      <td>08:00:00</td>\n",
       "      <td>372497.0</td>\n",
       "      <td>314948.0</td>\n",
       "      <td>366</td>\n",
       "      <td>1537</td>\n",
       "      <td>55646</td>\n",
       "    </tr>\n",
       "    <tr>\n",
       "      <th>7</th>\n",
       "      <td>09:00:00</td>\n",
       "      <td>1012636.0</td>\n",
       "      <td>869888.0</td>\n",
       "      <td>791</td>\n",
       "      <td>4663</td>\n",
       "      <td>137294</td>\n",
       "    </tr>\n",
       "    <tr>\n",
       "      <th>8</th>\n",
       "      <td>10:00:00</td>\n",
       "      <td>2272053.0</td>\n",
       "      <td>1962816.0</td>\n",
       "      <td>1948</td>\n",
       "      <td>14953</td>\n",
       "      <td>292336</td>\n",
       "    </tr>\n",
       "    <tr>\n",
       "      <th>9</th>\n",
       "      <td>11:00:00</td>\n",
       "      <td>4108641.0</td>\n",
       "      <td>3565665.0</td>\n",
       "      <td>3856</td>\n",
       "      <td>23321</td>\n",
       "      <td>515799</td>\n",
       "    </tr>\n",
       "    <tr>\n",
       "      <th>10</th>\n",
       "      <td>12:00:00</td>\n",
       "      <td>5013796.0</td>\n",
       "      <td>4319400.0</td>\n",
       "      <td>5943</td>\n",
       "      <td>29861</td>\n",
       "      <td>658592</td>\n",
       "    </tr>\n",
       "    <tr>\n",
       "      <th>11</th>\n",
       "      <td>13:00:00</td>\n",
       "      <td>4620927.0</td>\n",
       "      <td>3889848.0</td>\n",
       "      <td>9904</td>\n",
       "      <td>25648</td>\n",
       "      <td>695527</td>\n",
       "    </tr>\n",
       "    <tr>\n",
       "      <th>12</th>\n",
       "      <td>14:00:00</td>\n",
       "      <td>4559379.0</td>\n",
       "      <td>3760615.0</td>\n",
       "      <td>16862</td>\n",
       "      <td>22659</td>\n",
       "      <td>759243</td>\n",
       "    </tr>\n",
       "    <tr>\n",
       "      <th>13</th>\n",
       "      <td>15:00:00</td>\n",
       "      <td>5021765.0</td>\n",
       "      <td>4074247.0</td>\n",
       "      <td>11767</td>\n",
       "      <td>22518</td>\n",
       "      <td>913233</td>\n",
       "    </tr>\n",
       "    <tr>\n",
       "      <th>14</th>\n",
       "      <td>16:00:00</td>\n",
       "      <td>5564276.0</td>\n",
       "      <td>4409696.0</td>\n",
       "      <td>11525</td>\n",
       "      <td>24073</td>\n",
       "      <td>1118982</td>\n",
       "    </tr>\n",
       "    <tr>\n",
       "      <th>15</th>\n",
       "      <td>17:00:00</td>\n",
       "      <td>5522158.0</td>\n",
       "      <td>4426762.0</td>\n",
       "      <td>11657</td>\n",
       "      <td>22373</td>\n",
       "      <td>1061366</td>\n",
       "    </tr>\n",
       "    <tr>\n",
       "      <th>16</th>\n",
       "      <td>18:00:00</td>\n",
       "      <td>5472134.0</td>\n",
       "      <td>4452293.0</td>\n",
       "      <td>11766</td>\n",
       "      <td>26791</td>\n",
       "      <td>981284</td>\n",
       "    </tr>\n",
       "    <tr>\n",
       "      <th>17</th>\n",
       "      <td>19:00:00</td>\n",
       "      <td>5958747.0</td>\n",
       "      <td>4850196.0</td>\n",
       "      <td>145013</td>\n",
       "      <td>27376</td>\n",
       "      <td>936162</td>\n",
       "    </tr>\n",
       "    <tr>\n",
       "      <th>18</th>\n",
       "      <td>20:00:00</td>\n",
       "      <td>2648679.0</td>\n",
       "      <td>2280508.0</td>\n",
       "      <td>151898</td>\n",
       "      <td>14058</td>\n",
       "      <td>202215</td>\n",
       "    </tr>\n",
       "    <tr>\n",
       "      <th>19</th>\n",
       "      <td>21:00:00</td>\n",
       "      <td>282452.0</td>\n",
       "      <td>269496.0</td>\n",
       "      <td>398</td>\n",
       "      <td>2119</td>\n",
       "      <td>10439</td>\n",
       "    </tr>\n",
       "    <tr>\n",
       "      <th>20</th>\n",
       "      <td>22:00:00</td>\n",
       "      <td>80385.0</td>\n",
       "      <td>74246.0</td>\n",
       "      <td>217</td>\n",
       "      <td>857</td>\n",
       "      <td>5065</td>\n",
       "    </tr>\n",
       "    <tr>\n",
       "      <th>21</th>\n",
       "      <td>23:00:00</td>\n",
       "      <td>81971.0</td>\n",
       "      <td>60743.0</td>\n",
       "      <td>978</td>\n",
       "      <td>449</td>\n",
       "      <td>19801</td>\n",
       "    </tr>\n",
       "  </tbody>\n",
       "</table>\n",
       "</div>"
      ],
      "text/plain": [
       "    gps_hour  total_points  publishedGPS  delayedGPS  futureGPS  trimmedGPS\n",
       "0   02:00:00           NaN           NaN        6760        294       22839\n",
       "1   03:00:00      962917.0      757912.0       41990       5788      157227\n",
       "2   04:00:00      638619.0      537898.0        4261       4211       92249\n",
       "3   05:00:00      340363.0      286642.0         491       2178       51052\n",
       "4   06:00:00      222309.0      185168.0         317       1278       35546\n",
       "5   07:00:00      205859.0      172175.0         194       1236       32254\n",
       "6   08:00:00      372497.0      314948.0         366       1537       55646\n",
       "7   09:00:00     1012636.0      869888.0         791       4663      137294\n",
       "8   10:00:00     2272053.0     1962816.0        1948      14953      292336\n",
       "9   11:00:00     4108641.0     3565665.0        3856      23321      515799\n",
       "10  12:00:00     5013796.0     4319400.0        5943      29861      658592\n",
       "11  13:00:00     4620927.0     3889848.0        9904      25648      695527\n",
       "12  14:00:00     4559379.0     3760615.0       16862      22659      759243\n",
       "13  15:00:00     5021765.0     4074247.0       11767      22518      913233\n",
       "14  16:00:00     5564276.0     4409696.0       11525      24073     1118982\n",
       "15  17:00:00     5522158.0     4426762.0       11657      22373     1061366\n",
       "16  18:00:00     5472134.0     4452293.0       11766      26791      981284\n",
       "17  19:00:00     5958747.0     4850196.0      145013      27376      936162\n",
       "18  20:00:00     2648679.0     2280508.0      151898      14058      202215\n",
       "19  21:00:00      282452.0      269496.0         398       2119       10439\n",
       "20  22:00:00       80385.0       74246.0         217        857        5065\n",
       "21  23:00:00       81971.0       60743.0         978        449       19801"
      ]
     },
     "execution_count": 44,
     "metadata": {},
     "output_type": "execute_result"
    }
   ],
   "source": [
    "temp3"
   ]
  },
  {
   "cell_type": "code",
   "execution_count": 45,
   "metadata": {},
   "outputs": [
    {
     "name": "stdout",
     "output_type": "stream",
     "text": [
      "Total Received GPS Points (today): 54962563.0\n",
      "Total Published GPS Points (today): 45521162.0\n",
      "Total Delayed GPS Points (today): 438902\n",
      "Total Trimmed GPS Points (today): 8754151\n",
      "Total Future GPS Points (today): 278241\n"
     ]
    }
   ],
   "source": [
    "print(\"Total Received GPS Points (today):\",np.sum(temp3.total_points))\n",
    "print(\"Total Published GPS Points (today):\", np.sum(temp3.publishedGPS))\n",
    "print(\"Total Delayed GPS Points (today):\",np.sum(temp3.delayedGPS))\n",
    "print(\"Total Trimmed GPS Points (today):\",np.sum(temp3.trimmedGPS))\n",
    "print(\"Total Future GPS Points (today):\",np.sum(temp3.futureGPS))"
   ]
  }
 ],
 "metadata": {
  "kernelspec": {
   "display_name": "Python 3",
   "language": "python",
   "name": "python3"
  },
  "language_info": {
   "codemirror_mode": {
    "name": "ipython",
    "version": 3
   },
   "file_extension": ".py",
   "mimetype": "text/x-python",
   "name": "python",
   "nbconvert_exporter": "python",
   "pygments_lexer": "ipython3",
   "version": "3.7.0"
  }
 },
 "nbformat": 4,
 "nbformat_minor": 2
}
